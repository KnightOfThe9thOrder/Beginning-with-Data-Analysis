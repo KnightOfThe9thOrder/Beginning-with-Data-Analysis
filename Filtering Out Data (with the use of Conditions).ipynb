{
 "cells": [
  {
   "cell_type": "code",
   "execution_count": 16,
   "id": "7f4159f0",
   "metadata": {},
   "outputs": [],
   "source": [
    "import pandas as pd"
   ]
  },
  {
   "cell_type": "code",
   "execution_count": 17,
   "id": "951b04ec",
   "metadata": {},
   "outputs": [],
   "source": [
    "df= pd.read_csv(r\"C:\\Users\\Personal\\github\\python_pandas\\sample_data\\02 Introduction to Pandas\\intel.csv\")"
   ]
  },
  {
   "cell_type": "code",
   "execution_count": 18,
   "id": "34a8287a",
   "metadata": {},
   "outputs": [
    {
     "name": "stdout",
     "output_type": "stream",
     "text": [
      "0      False\n",
      "1      False\n",
      "2      False\n",
      "3      False\n",
      "4      False\n",
      "       ...  \n",
      "248     True\n",
      "249     True\n",
      "250     True\n",
      "251     True\n",
      "252     True\n",
      "Name: Open, Length: 253, dtype: bool\n"
     ]
    }
   ],
   "source": [
    "open_more_40=df['Open']>40\n",
    "#This will give results in boolean\n",
    "print(open_more_40)"
   ]
  },
  {
   "cell_type": "code",
   "execution_count": 19,
   "id": "b6a61a8f",
   "metadata": {},
   "outputs": [
    {
     "name": "stdout",
     "output_type": "stream",
     "text": [
      "           Date       Open       High        Low      Close\n",
      "8    20/10/2017  40.330002  40.450001  40.099998  40.430000\n",
      "9    23/10/2017  40.549999  41.040001  40.400002  40.830002\n",
      "10   24/10/2017  41.000000  41.049999  40.720001  40.950001\n",
      "11   25/10/2017  40.889999  41.060001  40.490002  40.779999\n",
      "12   26/10/2017  40.910000  41.580002  40.709999  41.349998\n",
      "..          ...        ...        ...        ...        ...\n",
      "248  04/10/2018  48.840000  48.860001  47.619999  48.130001\n",
      "249  05/10/2018  48.230000  48.340000  46.660000  47.029999\n",
      "250  08/10/2018  46.959999  47.349998  46.520000  47.029999\n",
      "251  09/10/2018  47.180000  47.619999  46.540001  46.549999\n",
      "252  10/10/2018  46.060001  46.119999  45.119999  45.169998\n",
      "\n",
      "[245 rows x 5 columns]\n"
     ]
    }
   ],
   "source": [
    "#The following code will select all rows that are greater than 40\n",
    "print(df[open_more_40])"
   ]
  },
  {
   "cell_type": "code",
   "execution_count": 20,
   "id": "d93201a6",
   "metadata": {},
   "outputs": [
    {
     "name": "stdout",
     "output_type": "stream",
     "text": [
      "           Date       Open       High        Low      Close\n",
      "8    20/10/2017  40.330002  40.450001  40.099998  40.430000\n",
      "9    23/10/2017  40.549999  41.040001  40.400002  40.830002\n",
      "10   24/10/2017  41.000000  41.049999  40.720001  40.950001\n",
      "11   25/10/2017  40.889999  41.060001  40.490002  40.779999\n",
      "12   26/10/2017  40.910000  41.580002  40.709999  41.349998\n",
      "..          ...        ...        ...        ...        ...\n",
      "248  04/10/2018  48.840000  48.860001  47.619999  48.130001\n",
      "249  05/10/2018  48.230000  48.340000  46.660000  47.029999\n",
      "250  08/10/2018  46.959999  47.349998  46.520000  47.029999\n",
      "251  09/10/2018  47.180000  47.619999  46.540001  46.549999\n",
      "252  10/10/2018  46.060001  46.119999  45.119999  45.169998\n",
      "\n",
      "[245 rows x 5 columns]\n"
     ]
    }
   ],
   "source": [
    "#Short-cut,i.e,no need to put the information in open_more_40\n",
    "print(df[df['Open']>40])"
   ]
  },
  {
   "cell_type": "code",
   "execution_count": null,
   "id": "ff0c2870",
   "metadata": {},
   "outputs": [],
   "source": []
  },
  {
   "cell_type": "code",
   "execution_count": null,
   "id": "d3ead212",
   "metadata": {},
   "outputs": [],
   "source": []
  }
 ],
 "metadata": {
  "kernelspec": {
   "display_name": "Python 3 (ipykernel)",
   "language": "python",
   "name": "python3"
  },
  "language_info": {
   "codemirror_mode": {
    "name": "ipython",
    "version": 3
   },
   "file_extension": ".py",
   "mimetype": "text/x-python",
   "name": "python",
   "nbconvert_exporter": "python",
   "pygments_lexer": "ipython3",
   "version": "3.9.13"
  }
 },
 "nbformat": 4,
 "nbformat_minor": 5
}
